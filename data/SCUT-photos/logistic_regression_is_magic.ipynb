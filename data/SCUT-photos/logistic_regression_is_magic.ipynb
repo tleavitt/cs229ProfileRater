{
 "cells": [
  {
   "cell_type": "code",
   "execution_count": 7,
   "metadata": {
    "collapsed": false
   },
   "outputs": [],
   "source": [
    "%matplotlib inline\n",
    "import numpy as np\n",
    "import matplotlib\n",
    "#matplotlib.use(\"Agg\")\n",
    "from matplotlib import pyplot as plt\n",
    "from matplotlib import image as mpimg\n",
    "import random\n",
    "from copy import deepcopy\n",
    "\n",
    "def get_image(imgname):\n",
    "    return mpimg.imread(imgname) #represents each pixel as a 3-tuple of RGB values\n",
    "    #return np.apply_along_axis(lambda x: 1. if x[0] == 0 else 0., 2, raw_img) #flattens to a 2d matrix\n",
    "\n",
    "def plot_image(mtx, filename = None):\n",
    "    plt.imshow(mtx)"
   ]
  },
  {
   "cell_type": "code",
   "execution_count": 8,
   "metadata": {
    "collapsed": false
   },
   "outputs": [
    {
     "ename": "IOError",
     "evalue": "[Errno 2] No such file or directory: 'SCUT-FBP-100.jpg'",
     "output_type": "error",
     "traceback": [
      "\u001b[0;31m---------------------------------------------------------------------------\u001b[0m",
      "\u001b[0;31mIOError\u001b[0m                                   Traceback (most recent call last)",
      "\u001b[0;32m<ipython-input-8-9485c5192ff6>\u001b[0m in \u001b[0;36m<module>\u001b[0;34m()\u001b[0m\n\u001b[1;32m      1\u001b[0m \u001b[0mplt\u001b[0m\u001b[0;34m.\u001b[0m\u001b[0mclf\u001b[0m\u001b[0;34m(\u001b[0m\u001b[0;34m)\u001b[0m\u001b[0;34m\u001b[0m\u001b[0m\n\u001b[1;32m      2\u001b[0m \u001b[0;31m# plt.axis([-1., 1., -1., 1.])\u001b[0m\u001b[0;34m\u001b[0m\u001b[0;34m\u001b[0m\u001b[0m\n\u001b[0;32m----> 3\u001b[0;31m \u001b[0mface\u001b[0m \u001b[0;34m=\u001b[0m \u001b[0mget_image\u001b[0m\u001b[0;34m(\u001b[0m\u001b[0;34m\"SCUT-FBP-100.jpg\"\u001b[0m\u001b[0;34m)\u001b[0m\u001b[0;34m\u001b[0m\u001b[0m\n\u001b[0m\u001b[1;32m      4\u001b[0m \u001b[0mplot_image\u001b[0m\u001b[0;34m(\u001b[0m\u001b[0mface\u001b[0m\u001b[0;34m)\u001b[0m\u001b[0;34m\u001b[0m\u001b[0m\n\u001b[1;32m      5\u001b[0m \u001b[0mplt\u001b[0m\u001b[0;34m.\u001b[0m\u001b[0mshow\u001b[0m\u001b[0;34m(\u001b[0m\u001b[0;34m)\u001b[0m\u001b[0;34m\u001b[0m\u001b[0m\n",
      "\u001b[0;32m<ipython-input-7-772ae5f59151>\u001b[0m in \u001b[0;36mget_image\u001b[0;34m(imgname)\u001b[0m\n\u001b[1;32m      9\u001b[0m \u001b[0;34m\u001b[0m\u001b[0m\n\u001b[1;32m     10\u001b[0m \u001b[0;32mdef\u001b[0m \u001b[0mget_image\u001b[0m\u001b[0;34m(\u001b[0m\u001b[0mimgname\u001b[0m\u001b[0;34m)\u001b[0m\u001b[0;34m:\u001b[0m\u001b[0;34m\u001b[0m\u001b[0m\n\u001b[0;32m---> 11\u001b[0;31m     \u001b[0;32mreturn\u001b[0m \u001b[0mmpimg\u001b[0m\u001b[0;34m.\u001b[0m\u001b[0mimread\u001b[0m\u001b[0;34m(\u001b[0m\u001b[0mimgname\u001b[0m\u001b[0;34m)\u001b[0m \u001b[0;31m#represents each pixel as a 3-tuple of RGB values\u001b[0m\u001b[0;34m\u001b[0m\u001b[0m\n\u001b[0m\u001b[1;32m     12\u001b[0m     \u001b[0;31m#return np.apply_along_axis(lambda x: 1. if x[0] == 0 else 0., 2, raw_img) #flattens to a 2d matrix\u001b[0m\u001b[0;34m\u001b[0m\u001b[0;34m\u001b[0m\u001b[0m\n\u001b[1;32m     13\u001b[0m \u001b[0;34m\u001b[0m\u001b[0m\n",
      "\u001b[0;32m/Users/Tucker/miniconda/lib/python2.7/site-packages/matplotlib/image.pyc\u001b[0m in \u001b[0;36mimread\u001b[0;34m(fname, format)\u001b[0m\n\u001b[1;32m   1252\u001b[0m \u001b[0;34m\u001b[0m\u001b[0m\n\u001b[1;32m   1253\u001b[0m     \u001b[0;32mif\u001b[0m \u001b[0mext\u001b[0m \u001b[0;32mnot\u001b[0m \u001b[0;32min\u001b[0m \u001b[0mhandlers\u001b[0m\u001b[0;34m:\u001b[0m\u001b[0;34m\u001b[0m\u001b[0m\n\u001b[0;32m-> 1254\u001b[0;31m         \u001b[0mim\u001b[0m \u001b[0;34m=\u001b[0m \u001b[0mpilread\u001b[0m\u001b[0;34m(\u001b[0m\u001b[0mfname\u001b[0m\u001b[0;34m)\u001b[0m\u001b[0;34m\u001b[0m\u001b[0m\n\u001b[0m\u001b[1;32m   1255\u001b[0m         \u001b[0;32mif\u001b[0m \u001b[0mim\u001b[0m \u001b[0;32mis\u001b[0m \u001b[0mNone\u001b[0m\u001b[0;34m:\u001b[0m\u001b[0;34m\u001b[0m\u001b[0m\n\u001b[1;32m   1256\u001b[0m             raise ValueError('Only know how to handle extensions: %s; '\n",
      "\u001b[0;32m/Users/Tucker/miniconda/lib/python2.7/site-packages/matplotlib/image.pyc\u001b[0m in \u001b[0;36mpilread\u001b[0;34m(fname)\u001b[0m\n\u001b[1;32m   1231\u001b[0m         \u001b[0;32mif\u001b[0m \u001b[0mcbook\u001b[0m\u001b[0;34m.\u001b[0m\u001b[0mis_string_like\u001b[0m\u001b[0;34m(\u001b[0m\u001b[0mfname\u001b[0m\u001b[0;34m)\u001b[0m\u001b[0;34m:\u001b[0m\u001b[0;34m\u001b[0m\u001b[0m\n\u001b[1;32m   1232\u001b[0m             \u001b[0;31m# force close the file after reading the image\u001b[0m\u001b[0;34m\u001b[0m\u001b[0;34m\u001b[0m\u001b[0m\n\u001b[0;32m-> 1233\u001b[0;31m             \u001b[0;32mwith\u001b[0m \u001b[0mopen\u001b[0m\u001b[0;34m(\u001b[0m\u001b[0mfname\u001b[0m\u001b[0;34m,\u001b[0m \u001b[0;34m\"rb\"\u001b[0m\u001b[0;34m)\u001b[0m \u001b[0;32mas\u001b[0m \u001b[0mfh\u001b[0m\u001b[0;34m:\u001b[0m\u001b[0;34m\u001b[0m\u001b[0m\n\u001b[0m\u001b[1;32m   1234\u001b[0m                 \u001b[0mimage\u001b[0m \u001b[0;34m=\u001b[0m \u001b[0mImage\u001b[0m\u001b[0;34m.\u001b[0m\u001b[0mopen\u001b[0m\u001b[0;34m(\u001b[0m\u001b[0mfh\u001b[0m\u001b[0;34m)\u001b[0m\u001b[0;34m\u001b[0m\u001b[0m\n\u001b[1;32m   1235\u001b[0m                 \u001b[0;32mreturn\u001b[0m \u001b[0mpil_to_array\u001b[0m\u001b[0;34m(\u001b[0m\u001b[0mimage\u001b[0m\u001b[0;34m)\u001b[0m\u001b[0;34m\u001b[0m\u001b[0m\n",
      "\u001b[0;31mIOError\u001b[0m: [Errno 2] No such file or directory: 'SCUT-FBP-100.jpg'"
     ]
    },
    {
     "data": {
      "text/plain": [
       "<matplotlib.figure.Figure at 0x10613f1d0>"
      ]
     },
     "metadata": {},
     "output_type": "display_data"
    }
   ],
   "source": [
    "plt.clf()\n",
    "# plt.axis([-1., 1., -1., 1.])\n",
    "face = get_image(\"SCUT-FBP-100.jpg\")\n",
    "plot_image(face)\n",
    "plt.show()\n",
    "x = ginput(n=3, timeout=-1)\n",
    "print \"clicked:\", x"
   ]
  },
  {
   "cell_type": "code",
   "execution_count": 9,
   "metadata": {
    "collapsed": false
   },
   "outputs": [],
   "source": [
    "import pickle\n",
    "with open(\"labeled_faces_100to109.txt\") as f:\n",
    "    labeled_face = pickle.load(f)"
   ]
  },
  {
   "cell_type": "code",
   "execution_count": 10,
   "metadata": {
    "collapsed": false
   },
   "outputs": [
    {
     "data": {
      "text/plain": [
       "{'SCUT-FBP-100.jpg': [(322.71874999999983, 187.11458333333337),\n",
       "  (313.6770833333332, 722.83333333333337),\n",
       "  (107.97916666666669, 395.07291666666674),\n",
       "  (530.67708333333303, 395.07291666666674),\n",
       "  (178.05208333333331, 388.29166666666674),\n",
       "  (223.26041666666657, 370.20833333333337),\n",
       "  (257.16666666666657, 397.33333333333337),\n",
       "  (218.7395833333332, 410.89583333333337),\n",
       "  (383.74999999999983, 399.59375),\n",
       "  (422.1770833333332, 370.20833333333337),\n",
       "  (469.64583333333309, 388.29166666666674),\n",
       "  (433.47916666666646, 413.15625),\n",
       "  (261.68749999999994, 523.91666666666674),\n",
       "  (318.19791666666657, 514.875),\n",
       "  (376.96874999999983, 526.17708333333337),\n",
       "  (241.34374999999994, 598.51041666666674),\n",
       "  (320.4583333333332, 584.94791666666674),\n",
       "  (397.31249999999983, 593.98958333333337),\n",
       "  (324.97916666666657, 636.9375)],\n",
       " 'SCUT-FBP-101.jpg': [(335.203125, 154.69270833333337),\n",
       "  (264.15104166666674, 670.75520833333337),\n",
       "  (84.651041666666686, 334.19270833333337),\n",
       "  (481.046875, 352.89062500000006),\n",
       "  (159.44270833333331, 347.28125000000006),\n",
       "  (223.015625, 334.19270833333337),\n",
       "  (256.671875, 367.84895833333337),\n",
       "  (211.796875, 369.71875000000006),\n",
       "  (352.03125, 367.84895833333337),\n",
       "  (402.515625, 337.93229166666669),\n",
       "  (434.30208333333337, 362.23958333333337),\n",
       "  (395.03645833333337, 382.80729166666669),\n",
       "  (237.97395833333337, 485.64583333333337),\n",
       "  (295.9375, 504.34375),\n",
       "  (350.16145833333337, 493.125),\n",
       "  (193.09895833333337, 526.78125),\n",
       "  (290.328125, 543.609375),\n",
       "  (372.59895833333337, 532.390625),\n",
       "  (282.84895833333337, 588.484375)],\n",
       " 'SCUT-FBP-102.jpg': [(245.05468750000003, 84.8046875),\n",
       "  (211.49218750000003, 484.7578125),\n",
       "  (78.640625000000028, 248.421875),\n",
       "  (363.921875, 248.421875),\n",
       "  (112.20312500000003, 256.8125),\n",
       "  (158.35156250000003, 242.828125),\n",
       "  (182.12500000000003, 265.203125),\n",
       "  (152.75781250000003, 266.6015625),\n",
       "  (254.84375000000003, 263.8046875),\n",
       "  (292.6015625, 244.2265625),\n",
       "  (324.765625, 254.015625),\n",
       "  (291.203125, 265.203125),\n",
       "  (179.32812500000003, 346.3125),\n",
       "  (217.08593750000003, 351.90625),\n",
       "  (253.44531250000003, 347.7109375),\n",
       "  (152.75781250000003, 382.671875),\n",
       "  (217.08593750000003, 382.671875),\n",
       "  (280.015625, 375.6796875),\n",
       "  (218.48437500000003, 420.4296875)],\n",
       " 'SCUT-FBP-103.jpg': [(294.58072916666657, 206.07552083333337),\n",
       "  (331.54687499999994, 795.359375),\n",
       "  (103.22656249999994, 469.18750000000006),\n",
       "  (520.72656249999977, 438.74479166666669),\n",
       "  (133.66927083333331, 467.01302083333337),\n",
       "  (181.50781249999994, 447.44270833333337),\n",
       "  (224.99739583333331, 471.36197916666669),\n",
       "  (188.03124999999994, 484.40885416666669),\n",
       "  (335.8958333333332, 471.36197916666669),\n",
       "  (385.90885416666657, 432.22135416666669),\n",
       "  (442.44531249999983, 447.44270833333337),\n",
       "  (394.6067708333332, 475.71093750000006),\n",
       "  (238.0442708333332, 606.1796875),\n",
       "  (281.53385416666657, 612.703125),\n",
       "  (344.59374999999994, 599.65625),\n",
       "  (231.5208333333332, 656.19270833333337),\n",
       "  (303.2786458333332, 656.19270833333337),\n",
       "  (396.78124999999983, 647.49479166666674),\n",
       "  (311.97656249999994, 708.38020833333337)],\n",
       " 'SCUT-FBP-104.jpg': [(223.02604166666663, 74.859375),\n",
       "  (231.99739583333326, 593.40364583333337),\n",
       "  (54.364583333333314, 275.81770833333337),\n",
       "  (416.80729166666652, 286.58333333333337),\n",
       "  (95.632812499999943, 282.99479166666669),\n",
       "  (140.48958333333326, 265.05208333333337),\n",
       "  (179.96354166666657, 297.34895833333337),\n",
       "  (135.10677083333326, 304.52604166666669),\n",
       "  (284.03124999999989, 297.34895833333337),\n",
       "  (334.27083333333326, 266.84635416666669),\n",
       "  (375.53906249999989, 284.7890625),\n",
       "  (334.27083333333326, 311.703125),\n",
       "  (183.55208333333326, 426.53645833333337),\n",
       "  (215.84895833333326, 426.53645833333337),\n",
       "  (269.67708333333326, 431.91927083333337),\n",
       "  (163.81510416666663, 485.74739583333337),\n",
       "  (226.61458333333326, 474.98177083333337),\n",
       "  (300.17968749999989, 489.3359375),\n",
       "  (228.40885416666663, 535.98697916666674)],\n",
       " 'SCUT-FBP-105.jpg': [(234.28125, 150.671875),\n",
       "  (252.7578125, 538.6796875),\n",
       "  (93.187500000000057, 318.640625),\n",
       "  (387.1328125, 306.8828125),\n",
       "  (135.17968750000006, 320.3203125),\n",
       "  (180.53125000000006, 300.1640625),\n",
       "  (205.7265625, 325.359375),\n",
       "  (173.81250000000006, 330.3984375),\n",
       "  (276.2734375, 320.3203125),\n",
       "  (313.2265625, 298.484375),\n",
       "  (351.859375, 311.921875),\n",
       "  (314.90625, 328.71875),\n",
       "  (207.40625, 411.0234375),\n",
       "  (242.6796875, 405.984375),\n",
       "  (286.3515625, 402.625),\n",
       "  (192.28906250000006, 453.015625),\n",
       "  (249.3984375, 437.8984375),\n",
       "  (311.546875, 441.2578125),\n",
       "  (252.7578125, 484.9296875)],\n",
       " 'SCUT-FBP-106.jpg': [(371.83333333333314, 207.5),\n",
       "  (369.16666666666652, 1015.5),\n",
       "  (78.499999999999886, 556.83333333333337),\n",
       "  (659.83333333333303, 546.16666666666674),\n",
       "  (155.83333333333326, 564.83333333333337),\n",
       "  (238.49999999999989, 530.16666666666674),\n",
       "  (297.16666666666652, 591.5),\n",
       "  (227.83333333333326, 602.16666666666674),\n",
       "  (446.49999999999977, 588.83333333333337),\n",
       "  (521.1666666666664, 538.16666666666674),\n",
       "  (595.83333333333303, 559.5),\n",
       "  (529.1666666666664, 596.83333333333337),\n",
       "  (297.16666666666652, 770.16666666666674),\n",
       "  (363.83333333333314, 764.83333333333337),\n",
       "  (438.49999999999977, 770.16666666666674),\n",
       "  (270.49999999999989, 847.5),\n",
       "  (366.49999999999977, 834.16666666666674),\n",
       "  (473.1666666666664, 844.83333333333337),\n",
       "  (371.83333333333314, 903.5)],\n",
       " 'SCUT-FBP-107.jpg': [(235.51041666666663, 135.33333333333337),\n",
       "  (227.02083333333326, 529.25),\n",
       "  (86.093749999999943, 291.54166666666669),\n",
       "  (371.34374999999989, 296.63541666666669),\n",
       "  (137.03124999999994, 296.63541666666669),\n",
       "  (172.68749999999994, 283.05208333333337),\n",
       "  (199.85416666666663, 303.42708333333337),\n",
       "  (170.98958333333326, 310.21875000000006),\n",
       "  (276.26041666666663, 303.42708333333337),\n",
       "  (311.91666666666652, 283.05208333333337),\n",
       "  (342.47916666666652, 303.42708333333337),\n",
       "  (310.21874999999989, 311.91666666666669),\n",
       "  (198.15624999999994, 393.41666666666669),\n",
       "  (228.71874999999989, 393.41666666666669),\n",
       "  (260.97916666666663, 398.51041666666669),\n",
       "  (184.57291666666657, 449.44791666666669),\n",
       "  (232.11458333333326, 439.26041666666669),\n",
       "  (279.65624999999989, 449.44791666666669),\n",
       "  (230.41666666666663, 480.01041666666669)],\n",
       " 'SCUT-FBP-108.jpg': [(250.25260416666669, 144.76822916666674),\n",
       "  (243.86718749999994, 494.36979166666669),\n",
       "  (128.9296875, 266.09114583333337),\n",
       "  (377.96093749999994, 286.84375000000006),\n",
       "  (156.06770833333331, 275.66927083333337),\n",
       "  (195.9765625, 264.49479166666669),\n",
       "  (218.32552083333331, 283.65104166666669),\n",
       "  (191.1875, 286.84375000000006),\n",
       "  (288.56510416666657, 290.03645833333337),\n",
       "  (320.49218749999994, 269.28385416666669),\n",
       "  (349.22656249999994, 285.24739583333337),\n",
       "  (318.89583333333331, 296.42187500000006),\n",
       "  (215.1328125, 374.64322916666669),\n",
       "  (243.86718749999994, 376.23958333333337),\n",
       "  (278.98697916666657, 379.43229166666669),\n",
       "  (199.16927083333331, 417.74479166666669),\n",
       "  (247.05989583333331, 408.16666666666669),\n",
       "  (293.35416666666657, 416.1484375),\n",
       "  (247.05989583333331, 441.69010416666669)],\n",
       " 'SCUT-FBP-109.jpg': [(235.86458333333337, 44.289062500000114),\n",
       "  (245.81770833333337, 570.14583333333337),\n",
       "  (60.026041666666742, 283.16406250000006),\n",
       "  (426.63281250000011, 276.52864583333337),\n",
       "  (104.81510416666674, 284.82291666666669),\n",
       "  (149.60416666666674, 259.94010416666669),\n",
       "  (184.44010416666674, 293.11718750000006),\n",
       "  (142.96875000000006, 299.75260416666669),\n",
       "  (278.99479166666674, 288.14062500000006),\n",
       "  (317.14843750000011, 258.28125000000006),\n",
       "  (365.25520833333337, 268.23437500000006),\n",
       "  (323.78385416666674, 294.77604166666669),\n",
       "  (184.44010416666674, 399.28385416666669),\n",
       "  (227.57031250000011, 382.69531250000006),\n",
       "  (282.31250000000011, 389.33072916666669),\n",
       "  (179.46354166666674, 473.93229166666669),\n",
       "  (237.52343750000011, 445.73177083333337),\n",
       "  (295.58333333333337, 467.296875),\n",
       "  (240.84114583333337, 497.15625)]}"
      ]
     },
     "execution_count": 10,
     "metadata": {},
     "output_type": "execute_result"
    }
   ],
   "source": [
    "labeled_face"
   ]
  },
  {
   "cell_type": "code",
   "execution_count": null,
   "metadata": {
    "collapsed": true
   },
   "outputs": [],
   "source": []
  },
  {
   "cell_type": "code",
   "execution_count": 18,
   "metadata": {
    "collapsed": false
   },
   "outputs": [],
   "source": [
    "from itertools import combinations\n",
    "def compute_ratios(labels):\n",
    "    unit = np.linalg.norm(np.array(labels[0]) - np.array(labels[1]))\n",
    "    num_pts = len(labels)\n",
    "    distances = []\n",
    "    for pt1, pt2 in combinations(labels, 2):\n",
    "        distances.append(\n",
    "            np.linalg.norm(np.array(pt1) - np.array(pt2))/unit\n",
    "        )\n",
    "    return distances"
   ]
  },
  {
   "cell_type": "code",
   "execution_count": 19,
   "metadata": {
    "collapsed": false
   },
   "outputs": [
    {
     "data": {
      "text/plain": [
       "[1.0,\n",
       " 0.55792047049881521,\n",
       " 0.54889924393704559,\n",
       " 0.46247454947063998,\n",
       " 0.38888627563107719,\n",
       " 0.41098210631957016,\n",
       " 0.46054627827470035,\n",
       " 0.41260291755078005,\n",
       " 0.38888627563107731,\n",
       " 0.4649502074215362,\n",
       " 0.46980556967067089,\n",
       " 0.63883960835862053,\n",
       " 0.61178541322146573,\n",
       " 0.64087019242735155,\n",
       " 0.78269983162802714,\n",
       " 0.7425222726913544,\n",
       " 0.77204194670019444,\n",
       " 0.83955348188513157,\n",
       " 0.72221762049876859,\n",
       " 0.73364824248670779,\n",
       " 0.67374252100073928,\n",
       " 0.67942466067852791,\n",
       " 0.61659585004187878,\n",
       " 0.60856220523455073,\n",
       " 0.61730264958269065,\n",
       " 0.68858398488848493,\n",
       " 0.68890700596216425,\n",
       " 0.61971984242919942,\n",
       " 0.38372608218536303,\n",
       " 0.38822207997014552,\n",
       " 0.38557693620034267,\n",
       " 0.26845017770285495,\n",
       " 0.25765835117882024,\n",
       " 0.28669279041106899,\n",
       " 0.16169653194652869,\n",
       " 0.78891718050784831,\n",
       " 0.13139404252598261,\n",
       " 0.22010700674948727,\n",
       " 0.27847331666231012,\n",
       " 0.20882036454126715,\n",
       " 0.51476378728172678,\n",
       " 0.58824775282703801,\n",
       " 0.67512799586715011,\n",
       " 0.60844520778941757,\n",
       " 0.37433456726269998,\n",
       " 0.45158989602361571,\n",
       " 0.55849439729755668,\n",
       " 0.45400730235906406,\n",
       " 0.53183765834094587,\n",
       " 0.65531554401144243,\n",
       " 0.6064674717906362,\n",
       " 0.65825580364674119,\n",
       " 0.57563163940497675,\n",
       " 0.51049325547665958,\n",
       " 0.58294407655188984,\n",
       " 0.27435232815560939,\n",
       " 0.20775222267956425,\n",
       " 0.11460880606832154,\n",
       " 0.18452163427165688,\n",
       " 0.55665894600379695,\n",
       " 0.45526006266704999,\n",
       " 0.37705858681968196,\n",
       " 0.66013231473350453,\n",
       " 0.52869935157950987,\n",
       " 0.44697474186239267,\n",
       " 0.59258867859181552,\n",
       " 0.090875915213147418,\n",
       " 0.14861946655683053,\n",
       " 0.086870582913145131,\n",
       " 0.38449063906187342,\n",
       " 0.45687962011254485,\n",
       " 0.54422629029685787,\n",
       " 0.47897877184511939,\n",
       " 0.29738859272392631,\n",
       " 0.35246623438633989,\n",
       " 0.45172781916093852,\n",
       " 0.40974600188884824,\n",
       " 0.45316365892570781,\n",
       " 0.56111738406251588,\n",
       " 0.53903430142063846,\n",
       " 0.081040663954604159,\n",
       " 0.076405870712214427,\n",
       " 0.30451498512883779,\n",
       " 0.37125514376839941,\n",
       " 0.46108700706676581,\n",
       " 0.40045360059934548,\n",
       " 0.2957080786453033,\n",
       " 0.32295247368316587,\n",
       " 0.40870217214459109,\n",
       " 0.42743421587324104,\n",
       " 0.43993090463653556,\n",
       " 0.52911998920797054,\n",
       " 0.53279057844574851,\n",
       " 0.076055650973677308,\n",
       " 0.2362909382373837,\n",
       " 0.31210629733842599,\n",
       " 0.39692687961620576,\n",
       " 0.33038954035486795,\n",
       " 0.23640389702237352,\n",
       " 0.24718761607384118,\n",
       " 0.32836317168549162,\n",
       " 0.37663351907243331,\n",
       " 0.36954931916723294,\n",
       " 0.45070223948488763,\n",
       " 0.46475876746306799,\n",
       " 0.30869457042938636,\n",
       " 0.38721215916751989,\n",
       " 0.47018426195339869,\n",
       " 0.40080900657176255,\n",
       " 0.22565696164979343,\n",
       " 0.2685496098357924,\n",
       " 0.36538388579586811,\n",
       " 0.35269339586285414,\n",
       " 0.37625527793350882,\n",
       " 0.47734097827434924,\n",
       " 0.46615447128696258,\n",
       " 0.090286443596497651,\n",
       " 0.16169653194652847,\n",
       " 0.09620363440144912,\n",
       " 0.32517682294890721,\n",
       " 0.24751141921748609,\n",
       " 0.23659204181699492,\n",
       " 0.45658735429583946,\n",
       " 0.36555433578685087,\n",
       " 0.36369946138435011,\n",
       " 0.45635340687435122,\n",
       " 0.094805928615981597,\n",
       " 0.082886434807029841,\n",
       " 0.41475414650948295,\n",
       " 0.33251062781731061,\n",
       " 0.30307962200562649,\n",
       " 0.54357181794140397,\n",
       " 0.44347684215865618,\n",
       " 0.42023228891717934,\n",
       " 0.52984270477554196,\n",
       " 0.081914443001430221,\n",
       " 0.46337806498744238,\n",
       " 0.36839161058413933,\n",
       " 0.31007524628833621,\n",
       " 0.57922258123430304,\n",
       " 0.46070083697634973,\n",
       " 0.40695650619616824,\n",
       " 0.53690035540570991,\n",
       " 0.38149320446496809,\n",
       " 0.28694100932372246,\n",
       " 0.23583856206323831,\n",
       " 0.49826610457934972,\n",
       " 0.38379565029269153,\n",
       " 0.34418858592668439,\n",
       " 0.46416480181764963,\n",
       " 0.10681169873789188,\n",
       " 0.21520058794005717,\n",
       " 0.14430545160217378,\n",
       " 0.15813498784039762,\n",
       " 0.28491797139301439,\n",
       " 0.24176386035123595,\n",
       " 0.11169887945951126,\n",
       " 0.21199250105532785,\n",
       " 0.13085108961444791,\n",
       " 0.20882036454126737,\n",
       " 0.22816695292103173,\n",
       " 0.28687897473012675,\n",
       " 0.15216979504774653,\n",
       " 0.13213696002108213,\n",
       " 0.22836188414233655,\n",
       " 0.14981225829255637,\n",
       " 0.29122004181119454,\n",
       " 0.17178374661774312,\n",
       " 0.14442873693145411,\n",
       " 0.097398756428657071,\n",
       " 0.15700543775361389]"
      ]
     },
     "execution_count": 19,
     "metadata": {},
     "output_type": "execute_result"
    }
   ],
   "source": [
    "compute_ratios(labeled_face['SCUT-FBP-100.jpg'])"
   ]
  },
  {
   "cell_type": "code",
   "execution_count": 13,
   "metadata": {
    "collapsed": false
   },
   "outputs": [
    {
     "data": {
      "text/plain": [
       "[(322.71874999999983, 187.11458333333337),\n",
       " (313.6770833333332, 722.83333333333337),\n",
       " (107.97916666666669, 395.07291666666674),\n",
       " (530.67708333333303, 395.07291666666674),\n",
       " (178.05208333333331, 388.29166666666674),\n",
       " (223.26041666666657, 370.20833333333337),\n",
       " (257.16666666666657, 397.33333333333337),\n",
       " (218.7395833333332, 410.89583333333337),\n",
       " (383.74999999999983, 399.59375),\n",
       " (422.1770833333332, 370.20833333333337),\n",
       " (469.64583333333309, 388.29166666666674),\n",
       " (433.47916666666646, 413.15625),\n",
       " (261.68749999999994, 523.91666666666674),\n",
       " (318.19791666666657, 514.875),\n",
       " (376.96874999999983, 526.17708333333337),\n",
       " (241.34374999999994, 598.51041666666674),\n",
       " (320.4583333333332, 584.94791666666674),\n",
       " (397.31249999999983, 593.98958333333337),\n",
       " (324.97916666666657, 636.9375)]"
      ]
     },
     "execution_count": 13,
     "metadata": {},
     "output_type": "execute_result"
    }
   ],
   "source": [
    "labeled_face['SCUT-FBP-100.jpg']"
   ]
  },
  {
   "cell_type": "code",
   "execution_count": 25,
   "metadata": {
    "collapsed": true
   },
   "outputs": [],
   "source": [
    "features = []\n",
    "for img_name in labeled_face:\n",
    "    features.append(compute_ratios(labeled_face[img_name]))\n",
    "features = np.array(features)"
   ]
  },
  {
   "cell_type": "code",
   "execution_count": 52,
   "metadata": {
    "collapsed": false
   },
   "outputs": [
    {
     "name": "stdout",
     "output_type": "stream",
     "text": [
      "Automatically created module for IPython interactive environment\n"
     ]
    },
    {
     "data": {
      "image/png": "[encoded data removed]",
      "text/plain": [
       "<matplotlib.figure.Figure at 0x108842cd0>"
      ]
     },
     "metadata": {},
     "output_type": "display_data"
    }
   ],
   "source": [
    "print(__doc__)\n",
    "\n",
    "\n",
    "# Code source: Gaël Varoquaux\n",
    "# Modified for documentation by Jaques Grobler\n",
    "# License: BSD 3 clause\n",
    "\n",
    "import numpy as np\n",
    "import matplotlib.pyplot as plt\n",
    "from sklearn import linear_model, datasets\n",
    "\n",
    "# import some data to play with\n",
    "iris = datasets.load_iris()\n",
    "X = iris.data[:, :2]  # we only take the first two features.\n",
    "Y = iris.target\n",
    "\n",
    "h = .02  # step size in the mesh\n",
    "\n",
    "logreg = linear_model.LogisticRegression(C=1e5)\n",
    "\n",
    "# we create an instance of Neighbours Classifier and fit the data.\n",
    "logreg.fit(X, Y)\n",
    "\n",
    "# Plot the decision boundary. For that, we will assign a color to each\n",
    "# point in the mesh [x_min, m_max]x[y_min, y_max].\n",
    "x_min, x_max = X[:, 0].min() - .5, X[:, 0].max() + .5\n",
    "y_min, y_max = X[:, 1].min() - .5, X[:, 1].max() + .5\n",
    "xx, yy = np.meshgrid(np.arange(x_min, x_max, h), np.arange(y_min, y_max, h))\n",
    "Z = logreg.predict(np.c_[xx.ravel(), yy.ravel()])\n",
    "\n",
    "# Put the result into a color plot\n",
    "Z = Z.reshape(xx.shape)\n",
    "plt.figure(1, figsize=(4, 3))\n",
    "plt.pcolormesh(xx, yy, Z, cmap=plt.cm.Paired)\n",
    "\n",
    "# Plot also the training points\n",
    "plt.scatter(X[:, 0], X[:, 1], c=Y, edgecolors='k', cmap=plt.cm.Paired)\n",
    "plt.xlabel('Sepal length')\n",
    "plt.ylabel('Sepal width')\n",
    "\n",
    "plt.xlim(xx.min(), xx.max())\n",
    "plt.ylim(yy.min(), yy.max())\n",
    "plt.xticks(())\n",
    "plt.yticks(())\n",
    "\n",
    "plt.show()"
   ]
  },
  {
   "cell_type": "code",
   "execution_count": 53,
   "metadata": {
    "collapsed": false
   },
   "outputs": [
    {
     "data": {
      "text/plain": [
       "array([[ 5.1,  3.5],\n",
       "       [ 4.9,  3. ],\n",
       "       [ 4.7,  3.2],\n",
       "       [ 4.6,  3.1],\n",
       "       [ 5. ,  3.6],\n",
       "       [ 5.4,  3.9],\n",
       "       [ 4.6,  3.4],\n",
       "       [ 5. ,  3.4],\n",
       "       [ 4.4,  2.9],\n",
       "       [ 4.9,  3.1],\n",
       "       [ 5.4,  3.7],\n",
       "       [ 4.8,  3.4],\n",
       "       [ 4.8,  3. ],\n",
       "       [ 4.3,  3. ],\n",
       "       [ 5.8,  4. ],\n",
       "       [ 5.7,  4.4],\n",
       "       [ 5.4,  3.9],\n",
       "       [ 5.1,  3.5],\n",
       "       [ 5.7,  3.8],\n",
       "       [ 5.1,  3.8],\n",
       "       [ 5.4,  3.4],\n",
       "       [ 5.1,  3.7],\n",
       "       [ 4.6,  3.6],\n",
       "       [ 5.1,  3.3],\n",
       "       [ 4.8,  3.4],\n",
       "       [ 5. ,  3. ],\n",
       "       [ 5. ,  3.4],\n",
       "       [ 5.2,  3.5],\n",
       "       [ 5.2,  3.4],\n",
       "       [ 4.7,  3.2],\n",
       "       [ 4.8,  3.1],\n",
       "       [ 5.4,  3.4],\n",
       "       [ 5.2,  4.1],\n",
       "       [ 5.5,  4.2],\n",
       "       [ 4.9,  3.1],\n",
       "       [ 5. ,  3.2],\n",
       "       [ 5.5,  3.5],\n",
       "       [ 4.9,  3.1],\n",
       "       [ 4.4,  3. ],\n",
       "       [ 5.1,  3.4],\n",
       "       [ 5. ,  3.5],\n",
       "       [ 4.5,  2.3],\n",
       "       [ 4.4,  3.2],\n",
       "       [ 5. ,  3.5],\n",
       "       [ 5.1,  3.8],\n",
       "       [ 4.8,  3. ],\n",
       "       [ 5.1,  3.8],\n",
       "       [ 4.6,  3.2],\n",
       "       [ 5.3,  3.7],\n",
       "       [ 5. ,  3.3],\n",
       "       [ 7. ,  3.2],\n",
       "       [ 6.4,  3.2],\n",
       "       [ 6.9,  3.1],\n",
       "       [ 5.5,  2.3],\n",
       "       [ 6.5,  2.8],\n",
       "       [ 5.7,  2.8],\n",
       "       [ 6.3,  3.3],\n",
       "       [ 4.9,  2.4],\n",
       "       [ 6.6,  2.9],\n",
       "       [ 5.2,  2.7],\n",
       "       [ 5. ,  2. ],\n",
       "       [ 5.9,  3. ],\n",
       "       [ 6. ,  2.2],\n",
       "       [ 6.1,  2.9],\n",
       "       [ 5.6,  2.9],\n",
       "       [ 6.7,  3.1],\n",
       "       [ 5.6,  3. ],\n",
       "       [ 5.8,  2.7],\n",
       "       [ 6.2,  2.2],\n",
       "       [ 5.6,  2.5],\n",
       "       [ 5.9,  3.2],\n",
       "       [ 6.1,  2.8],\n",
       "       [ 6.3,  2.5],\n",
       "       [ 6.1,  2.8],\n",
       "       [ 6.4,  2.9],\n",
       "       [ 6.6,  3. ],\n",
       "       [ 6.8,  2.8],\n",
       "       [ 6.7,  3. ],\n",
       "       [ 6. ,  2.9],\n",
       "       [ 5.7,  2.6],\n",
       "       [ 5.5,  2.4],\n",
       "       [ 5.5,  2.4],\n",
       "       [ 5.8,  2.7],\n",
       "       [ 6. ,  2.7],\n",
       "       [ 5.4,  3. ],\n",
       "       [ 6. ,  3.4],\n",
       "       [ 6.7,  3.1],\n",
       "       [ 6.3,  2.3],\n",
       "       [ 5.6,  3. ],\n",
       "       [ 5.5,  2.5],\n",
       "       [ 5.5,  2.6],\n",
       "       [ 6.1,  3. ],\n",
       "       [ 5.8,  2.6],\n",
       "       [ 5. ,  2.3],\n",
       "       [ 5.6,  2.7],\n",
       "       [ 5.7,  3. ],\n",
       "       [ 5.7,  2.9],\n",
       "       [ 6.2,  2.9],\n",
       "       [ 5.1,  2.5],\n",
       "       [ 5.7,  2.8],\n",
       "       [ 6.3,  3.3],\n",
       "       [ 5.8,  2.7],\n",
       "       [ 7.1,  3. ],\n",
       "       [ 6.3,  2.9],\n",
       "       [ 6.5,  3. ],\n",
       "       [ 7.6,  3. ],\n",
       "       [ 4.9,  2.5],\n",
       "       [ 7.3,  2.9],\n",
       "       [ 6.7,  2.5],\n",
       "       [ 7.2,  3.6],\n",
       "       [ 6.5,  3.2],\n",
       "       [ 6.4,  2.7],\n",
       "       [ 6.8,  3. ],\n",
       "       [ 5.7,  2.5],\n",
       "       [ 5.8,  2.8],\n",
       "       [ 6.4,  3.2],\n",
       "       [ 6.5,  3. ],\n",
       "       [ 7.7,  3.8],\n",
       "       [ 7.7,  2.6],\n",
       "       [ 6. ,  2.2],\n",
       "       [ 6.9,  3.2],\n",
       "       [ 5.6,  2.8],\n",
       "       [ 7.7,  2.8],\n",
       "       [ 6.3,  2.7],\n",
       "       [ 6.7,  3.3],\n",
       "       [ 7.2,  3.2],\n",
       "       [ 6.2,  2.8],\n",
       "       [ 6.1,  3. ],\n",
       "       [ 6.4,  2.8],\n",
       "       [ 7.2,  3. ],\n",
       "       [ 7.4,  2.8],\n",
       "       [ 7.9,  3.8],\n",
       "       [ 6.4,  2.8],\n",
       "       [ 6.3,  2.8],\n",
       "       [ 6.1,  2.6],\n",
       "       [ 7.7,  3. ],\n",
       "       [ 6.3,  3.4],\n",
       "       [ 6.4,  3.1],\n",
       "       [ 6. ,  3. ],\n",
       "       [ 6.9,  3.1],\n",
       "       [ 6.7,  3.1],\n",
       "       [ 6.9,  3.1],\n",
       "       [ 5.8,  2.7],\n",
       "       [ 6.8,  3.2],\n",
       "       [ 6.7,  3.3],\n",
       "       [ 6.7,  3. ],\n",
       "       [ 6.3,  2.5],\n",
       "       [ 6.5,  3. ],\n",
       "       [ 6.2,  3.4],\n",
       "       [ 5.9,  3. ]])"
      ]
     },
     "execution_count": 53,
     "metadata": {},
     "output_type": "execute_result"
    }
   ],
   "source": [
    "X"
   ]
  },
  {
   "cell_type": "code",
   "execution_count": 56,
   "metadata": {
    "collapsed": false
   },
   "outputs": [
    {
     "data": {
      "text/plain": [
       "1"
      ]
     },
     "execution_count": 56,
     "metadata": {},
     "output_type": "execute_result"
    }
   ],
   "source": [
    "average_ratings = [2.44, 3.1333333333333333, 2.36, 2.5733333333333333, 2.36, 2.48, 2.6666666666666665, 2.08, 2.84, 3.066666666666667, 2.48, 2.4133333333333336, 2.6533333333333333, 2.16, 2.0, 2.466666666666667, 2.1866666666666665, 2.453333333333333, 2.8933333333333335, 3.2133333333333334, 2.6933333333333334, 2.506666666666667, 2.453333333333333, 2.493333333333333, 2.013333333333333, 2.6666666666666665, 2.1333333333333333, 2.6, 2.32, 2.3466666666666667, 2.32, 2.76, 2.76, 2.973333333333333, 3.56, 3.1066666666666665, 3.4133333333333336, 3.026666666666667, 3.7733333333333334, 4.346666666666667, 2.76, 3.48, 2.92, 2.48, 3.1466666666666665, 3.8933333333333335, 3.6133333333333333, 3.8666666666666667, 3.56, 3.84, 3.3333333333333335, 3.7333333333333334, 3.533333333333333, 3.1466666666666665, 2.466666666666667, 3.28, 3.8666666666666667, 3.92, 2.5733333333333333, 2.6266666666666665, 2.36, 2.2933333333333334, 2.1466666666666665, 2.466666666666667, 2.1733333333333333, 2.36, 2.48, 2.44, 2.72, 3.2666666666666666, 2.3866666666666667, 2.8266666666666667, 2.32, 2.2666666666666666, 2.0, 2.76, 2.7733333333333334, 2.92, 2.5733333333333333, 2.453333333333333, 2.72, 2.6533333333333333, 2.88, 2.533333333333333, 2.7733333333333334, 2.28, 2.88, 2.7866666666666666, 2.973333333333333, 2.92, 2.44, 2.1466666666666665, 2.453333333333333, 2.453333333333333, 2.2, 2.533333333333333, 2.6666666666666665, 2.7333333333333334, 2.64, 2.96, 3.8533333333333335, 3.8933333333333335, 3.973333333333333, 3.973333333333333, 4.44, 3.72, 4.293333333333333, 4.24, 2.986666666666667, 4.693333333333333, 4.053333333333334, 1.32, 2.0933333333333333, 1.48, 1.5866666666666667, 2.6666666666666665, 2.6533333333333333, 2.6666666666666665, 2.2133333333333334, 3.013333333333333, 2.1333333333333333, 2.1733333333333333, 3.12, 3.3333333333333335, 2.986666666666667, 2.933333333333333, 2.7066666666666666, 2.16, 2.2933333333333334, 2.1466666666666665, 2.5866666666666664, 2.5733333333333333, 4.466666666666667, 2.72, 2.9066666666666667, 2.546666666666667, 3.12, 2.3733333333333335, 2.56, 2.04, 2.453333333333333, 4.213333333333333, 2.8266666666666667, 2.1333333333333333, 3.12, 2.6666666666666665, 2.2266666666666666, 2.32, 2.7066666666666666, 2.2, 2.7333333333333334, 2.2666666666666666, 1.88, 1.44, 2.0933333333333333, 2.0533333333333332, 1.8, 2.6666666666666665, 1.1333333333333333, 1.9733333333333334, 2.013333333333333, 2.3866666666666667, 2.3333333333333335, 2.2933333333333334, 2.2933333333333334, 4.373333333333333, 4.1466666666666665, 2.5866666666666664, 4.573333333333333, 2.16, 2.36, 4.28, 2.3333333333333335, 2.16, 1.8533333333333333, 2.1066666666666665, 4.04, 2.3733333333333335, 2.973333333333333, 2.12, 2.5733333333333333, 2.4133333333333336, 3.013333333333333, 1.9066666666666667, 2.3466666666666667, 3.973333333333333, 1.9866666666666666, 4.1866666666666665, 4.36, 2.013333333333333, 2.16, 2.026666666666667, 3.9466666666666668, 4.2, 2.2133333333333334, 4.08, 2.2533333333333334, 2.24, 3.4266666666666667, 2.2933333333333334, 2.4266666666666667, 2.493333333333333, 2.546666666666667, 1.92, 2.4133333333333336, 1.88, 2.493333333333333, 2.0, 4.1466666666666665, 1.88, 2.5866666666666664, 2.64, 2.52, 2.68, 2.32, 4.293333333333333, 3.066666666666667, 2.24, 2.0, 2.3066666666666666, 2.0933333333333333, 2.48, 2.1466666666666665, 1.76, 2.3733333333333335, 2.6933333333333334, 2.76, 2.3466666666666667, 2.32, 2.493333333333333, 1.8666666666666667, 1.92, 2.56, 2.3466666666666667, 2.96, 2.1866666666666665, 2.1333333333333333, 2.1333333333333333, 2.066666666666667, 2.7466666666666666, 2.0933333333333333, 3.6666666666666665, 2.6666666666666665, 2.3866666666666667, 3.1333333333333333, 2.6, 2.013333333333333, 2.16, 2.2533333333333334, 2.5733333333333333, 2.3866666666666667, 2.04, 1.7333333333333334, 2.44, 2.32, 2.84, 2.1733333333333333, 1.92, 2.32, 2.2266666666666666, 1.9733333333333334, 1.92, 2.32, 1.68, 2.3866666666666667, 2.1066666666666665, 1.5866666666666667, 1.9333333333333333, 1.96, 2.3733333333333335, 3.1066666666666665, 2.12, 2.0, 2.0533333333333332, 2.1733333333333333, 2.6133333333333333, 2.28, 3.1733333333333333, 2.3466666666666667, 2.1733333333333333, 1.7066666666666668, 2.8133333333333335, 1.8, 2.1866666666666665, 2.1733333333333333, 1.9333333333333333, 1.7866666666666666, 2.013333333333333, 2.1333333333333333, 2.026666666666667, 2.2, 2.1333333333333333, 2.7333333333333334, 2.546666666666667, 2.8666666666666667, 2.2933333333333334, 2.2533333333333334, 2.5733333333333333, 3.1066666666666665, 2.2266666666666666, 1.8933333333333333, 2.36, 2.52, 2.32, 2.1466666666666665, 2.8266666666666667, 2.44, 2.493333333333333, 2.1333333333333333, 2.52, 3.0, 2.8666666666666667, 2.066666666666667, 2.4, 2.5866666666666664, 2.9066666666666667, 1.8266666666666667, 2.1733333333333333, 2.5733333333333333, 3.1866666666666665, 1.7866666666666666, 2.0933333333333333, 2.2533333333333334, 2.1866666666666665, 2.546666666666667, 3.3066666666666666, 2.24, 2.12, 2.0933333333333333, 2.533333333333333, 2.1466666666666665, 2.8933333333333335, 1.7866666666666666, 2.986666666666667, 2.546666666666667, 2.7866666666666666, 2.0, 2.3733333333333335, 1.6533333333333333, 2.04, 2.7733333333333334, 1.7466666666666666, 2.6666666666666665, 2.6, 2.066666666666667, 2.506666666666667, 3.5866666666666664, 1.92, 2.933333333333333, 2.013333333333333, 2.28, 1.9466666666666668, 2.5733333333333333, 2.2, 2.493333333333333, 3.2, 2.7866666666666666, 2.84, 2.0533333333333332, 2.466666666666667, 1.7333333333333334, 2.52, 2.2266666666666666, 2.8933333333333335, 2.7466666666666666, 2.5866666666666664, 1.9333333333333333, 2.066666666666667, 2.8666666666666667, 2.8533333333333335, 1.9066666666666667, 2.3866666666666667, 2.466666666666667, 1.9066666666666667, 2.36, 2.24, 2.08, 2.7866666666666666, 2.506666666666667, 3.2933333333333334, 4.466666666666667, 4.546666666666667, 2.2133333333333334, 2.16, 2.2133333333333334, 2.026666666666667, 2.1866666666666665, 2.3066666666666666, 3.28, 3.2933333333333334, 3.2133333333333334, 2.6, 2.92, 2.2, 2.4266666666666667, 2.2933333333333334, 2.1466666666666665, 2.1866666666666665, 3.0, 2.28, 1.9333333333333333, 2.52, 1.9066666666666667, 2.6133333333333333, 1.72, 1.9333333333333333, 1.8933333333333333, 2.1066666666666665, 2.2666666666666666, 1.5466666666666666, 2.1466666666666665, 1.4666666666666666, 2.1866666666666665, 1.72, 2.6266666666666665, 2.533333333333333, 3.066666666666667, 2.0, 2.2533333333333334, 2.2, 2.4, 2.48, 2.2133333333333334, 2.8133333333333335, 2.466666666666667, 2.6933333333333334, 2.1066666666666665, 2.04, 1.5333333333333334, 1.8533333333333333, 1.9066666666666667, 1.7866666666666666, 1.6933333333333334, 1.8533333333333333, 2.4266666666666667, 1.9333333333333333, 2.6, 2.2133333333333334, 2.3333333333333335, 1.48, 1.8133333333333332, 2.026666666666667, 2.4133333333333336, 1.84, 2.6666666666666665, 1.8533333333333333, 2.12, 1.8133333333333332, 2.7733333333333334, 1.8, 2.52, 2.32, 2.453333333333333, 2.44, 2.1466666666666665, 2.16, 1.92, 1.76, 1.88, 2.88, 2.1466666666666665, 2.2666666666666666, 2.0533333333333332, 2.0933333333333333, 3.7466666666666666, 3.96, 3.4, 3.533333333333333, 2.2133333333333334, 2.4133333333333336, 2.2, 2.08, 2.96, 2.36, 2.0533333333333332, 1.8666666666666667, 2.026666666666667, 2.04, 1.96, 1.8533333333333333, 1.6666666666666667, 2.48, 2.44, 2.72, 1.84, 2.1066666666666665, 1.92, 3.0533333333333332, 2.453333333333333, 2.1733333333333333, 2.506666666666667, 2.4266666666666667, 3.12, 1.9466666666666668, 2.76, 2.973333333333333, 2.2533333333333334, 2.4133333333333336, 2.8666666666666667, 3.1466666666666665]\n",
    "average_ratings = map(lambda flt: int(flt), average_ratings)\n",
    "min(average_ratings)"
   ]
  },
  {
   "cell_type": "code",
   "execution_count": 71,
   "metadata": {
    "collapsed": false
   },
   "outputs": [],
   "source": [
    "import numpy as np\n",
    "import matplotlib.pyplot as plt\n",
    "from sklearn import linear_model\n",
    "\n",
    "X = features[0:9]\n",
    "Y = np.array(average_ratings[100:109])\n",
    "\n"
   ]
  },
  {
   "cell_type": "code",
   "execution_count": 72,
   "metadata": {
    "collapsed": false
   },
   "outputs": [
    {
     "data": {
      "text/plain": [
       "LogisticRegression(C=100000.0, class_weight=None, dual=False,\n",
       "          fit_intercept=True, intercept_scaling=1, max_iter=100,\n",
       "          multi_class='ovr', n_jobs=1, penalty='l2', random_state=None,\n",
       "          solver='liblinear', tol=0.0001, verbose=0, warm_start=False)"
      ]
     },
     "execution_count": 72,
     "metadata": {},
     "output_type": "execute_result"
    }
   ],
   "source": [
    "logreg = linear_model.LogisticRegression(C=1e5)\n",
    "logreg.fit(X, Y)"
   ]
  },
  {
   "cell_type": "code",
   "execution_count": 75,
   "metadata": {
    "collapsed": false
   },
   "outputs": [],
   "source": [
    "Z = logreg.predict(features)"
   ]
  },
  {
   "cell_type": "code",
   "execution_count": 76,
   "metadata": {
    "collapsed": false
   },
   "outputs": [
    {
     "data": {
      "text/plain": [
       "array([3, 3, 3, 3, 4, 3, 4, 4, 2, 4])"
      ]
     },
     "execution_count": 76,
     "metadata": {},
     "output_type": "execute_result"
    }
   ],
   "source": [
    "Z"
   ]
  },
  {
   "cell_type": "code",
   "execution_count": 66,
   "metadata": {
    "collapsed": false
   },
   "outputs": [
    {
     "data": {
      "text/plain": [
       "array([3, 3, 3, 3, 4, 3, 4, 4, 2, 4])"
      ]
     },
     "execution_count": 66,
     "metadata": {},
     "output_type": "execute_result"
    }
   ],
   "source": [
    "Y"
   ]
  },
  {
   "cell_type": "code",
   "execution_count": 89,
   "metadata": {
    "collapsed": true
   },
   "outputs": [],
   "source": [
    "def leave_one_out(features, labels):\n",
    "    predictions = []\n",
    "    for i in xrange(len(features)):\n",
    "        X = np.delete(features, i ,0)\n",
    "        Y = np.delete(labels, i, 0)\n",
    "        logreg = linear_model.LogisticRegression(C=1e5)\n",
    "        logreg.fit(X, Y)\n",
    "        Z = logreg.predict(features)\n",
    "        predictions.append(Z[i])\n",
    "    return np.array(predictions)"
   ]
  },
  {
   "cell_type": "code",
   "execution_count": 80,
   "metadata": {
    "collapsed": false
   },
   "outputs": [
    {
     "name": "stdout",
     "output_type": "stream",
     "text": [
      "[[ 1.          0.58146395  0.50388189 ...,  0.15775645  0.09413944\n",
      "   0.18956408]\n",
      " [ 1.          0.55792047  0.54889924 ...,  0.14442874  0.09739876\n",
      "   0.15700544]\n",
      " [ 1.          0.54862538  0.53520944 ...,  0.12340084  0.103514\n",
      "   0.14708695]\n",
      " ..., \n",
      " [ 1.          0.49069547  0.54634897 ...,  0.13435146  0.09587442\n",
      "   0.15121218]\n",
      " [ 1.          0.56454633  0.5502027  ...,  0.1326709   0.08606161\n",
      "   0.14491339]\n",
      " [ 1.          0.50587244  0.55342062 ...,  0.14452231  0.11768032\n",
      "   0.16505295]]\n"
     ]
    }
   ],
   "source": [
    "i = 2\n",
    "X = np.delete(features, i ,0)\n",
    "print X"
   ]
  },
  {
   "cell_type": "code",
   "execution_count": 90,
   "metadata": {
    "collapsed": false
   },
   "outputs": [],
   "source": [
    "labels = np.array(average_ratings[100:110])\n",
    "predictions = leave_one_out(features, labels)"
   ]
  },
  {
   "cell_type": "code",
   "execution_count": 91,
   "metadata": {
    "collapsed": false
   },
   "outputs": [
    {
     "data": {
      "text/plain": [
       "array([3, 4, 3, 4, 3, 3, 4, 4, 4, 4])"
      ]
     },
     "execution_count": 91,
     "metadata": {},
     "output_type": "execute_result"
    }
   ],
   "source": [
    "predictions"
   ]
  },
  {
   "cell_type": "code",
   "execution_count": 87,
   "metadata": {
    "collapsed": false
   },
   "outputs": [
    {
     "data": {
      "text/plain": [
       "array([3, 3, 3, 3, 4, 3, 4, 4, 2, 4])"
      ]
     },
     "execution_count": 87,
     "metadata": {},
     "output_type": "execute_result"
    }
   ],
   "source": [
    "labels"
   ]
  },
  {
   "cell_type": "code",
   "execution_count": 94,
   "metadata": {
    "collapsed": false
   },
   "outputs": [
    {
     "data": {
      "text/plain": [
       "0"
      ]
     },
     "execution_count": 94,
     "metadata": {},
     "output_type": "execute_result"
    }
   ],
   "source": [
    "sum(abs(predictions - labels))/len(labels)"
   ]
  },
  {
   "cell_type": "code",
   "execution_count": 95,
   "metadata": {
    "collapsed": false
   },
   "outputs": [
    {
     "data": {
      "text/plain": [
       "array([0, 1, 0, 1, 1, 0, 0, 0, 2, 0])"
      ]
     },
     "execution_count": 95,
     "metadata": {},
     "output_type": "execute_result"
    }
   ],
   "source": [
    "abs(predictions - labels)"
   ]
  },
  {
   "cell_type": "code",
   "execution_count": 116,
   "metadata": {
    "collapsed": true
   },
   "outputs": [],
   "source": [
    "labeled_face2 = [{'SCUT-FBP-1.jpg': [(263.82812500000006, 106.796875), (245.09375000000006, 587.078125), (98.625000000000057, 321.390625), (403.48437500000006, 333.3125), (132.68750000000006, 321.390625), (173.56250000000006, 306.0625), (209.32812500000006, 328.203125), (175.26562500000006, 333.3125), (303.00000000000006, 335.015625), (342.17187500000006, 316.28125), (384.75000000000006, 338.421875), (340.46875000000006, 345.234375), (216.14062500000006, 438.90625), (253.60937500000006, 411.65625), (287.67187500000006, 444.015625), (190.59375000000006, 496.8125), (253.60937500000006, 483.1875), (309.81250000000006, 501.921875), (246.79687500000006, 520.65625)]}, {'SCUT-FBP-2.jpg': [(329.41145833333337, 141.34895833333337), (333.77604166666663, 758.9375), (122.09375, 411.953125), (547.640625, 405.40625), (189.74479166666663, 414.13541666666674), (235.57291666666663, 390.13020833333337), (281.40104166666663, 422.86458333333337), (235.57291666666663, 425.046875), (390.515625, 420.68229166666674), (440.70833333333337, 387.94791666666674), (488.71875, 414.13541666666674), (442.890625, 425.046875), (294.49479166666663, 562.53125), (333.77604166666663, 523.25), (370.875, 558.16666666666674), (261.76041666666663, 628.0), (340.32291666666663, 623.63541666666674), (418.88541666666663, 630.18229166666674), (344.6875, 665.09895833333337)]}, {'SCUT-FBP-3.jpg': [(341.87499999999994, 154.08333333333348), (341.87499999999994, 761.375), (107.79166666666663, 408.04166666666674), (569.33333333333326, 397.00000000000011), (167.41666666666657, 412.45833333333337), (224.83333333333331, 383.75000000000011), (271.20833333333331, 419.08333333333337), (220.41666666666657, 427.91666666666674), (401.49999999999994, 412.45833333333337), (458.91666666666657, 370.50000000000011), (516.33333333333326, 394.79166666666674), (456.7083333333332, 412.45833333333337), (293.29166666666657, 564.83333333333337), (339.66666666666657, 536.125), (374.99999999999994, 567.04166666666674), (255.74999999999994, 635.5), (335.24999999999994, 622.25), (425.79166666666657, 631.08333333333337), (341.87499999999994, 677.45833333333337)]}, {'SCUT-FBP-4.jpg': [(339.74999999999994, 91.75), (346.49999999999994, 748.75), (96.750000000000057, 373.0), (573.75, 355.0), (168.75000000000006, 373.0), (222.75000000000006, 343.75), (276.75000000000006, 382.0), (227.25000000000006, 391.0), (400.49999999999994, 377.5), (456.74999999999994, 343.75), (510.74999999999994, 370.75), (456.74999999999994, 384.25), (285.75000000000006, 523.75), (339.74999999999994, 485.5), (373.49999999999994, 526.0), (254.25000000000006, 591.25), (344.24999999999994, 591.25), (420.74999999999994, 595.75), (339.74999999999994, 638.5)]}, {'SCUT-FBP-5.jpg': [(283.64062499999989, 137.171875), (294.07031249999989, 727.4921875), (91.734374999999886, 389.5703125), (515.17968749999977, 385.3984375), (152.22656249999989, 393.7421875), (210.63281249999989, 372.8828125), (256.52343749999989, 406.2578125), (206.46093749999989, 414.6015625), (362.90624999999989, 404.171875), (419.22656249999989, 372.8828125), (465.11718749999977, 402.0859375), (423.39843749999977, 416.6875), (262.78124999999989, 541.84375), (302.41406249999989, 510.5546875), (342.04687499999989, 539.7578125), (221.06249999999989, 591.90625), (300.32812499999989, 591.90625), (385.85156249999989, 600.25), (306.58593749999989, 639.8828125)]}, {'SCUT-FBP-6.jpg': [(300.34895833333343, 133.70312500000011), (323.78125000000006, 721.640625), (97.979166666666742, 382.93750000000011), (532.54166666666674, 372.28645833333337), (168.27604166666669, 387.19791666666674), (208.75000000000006, 365.89583333333337), (270.52604166666669, 399.97916666666674), (210.88020833333343, 408.50000000000006), (370.64583333333343, 395.71875000000011), (421.77083333333343, 365.89583333333337), (470.76562500000006, 385.06770833333337), (426.03125000000006, 408.50000000000006), (259.87500000000006, 540.57291666666674), (321.65104166666669, 515.01041666666674), (368.51562500000006, 546.96354166666674), (230.05208333333343, 585.30729166666674), (319.52083333333343, 589.56770833333337), (417.51041666666669, 589.56770833333337), (313.13020833333343, 627.91145833333337)]}, {'SCUT-FBP-7.jpg': [(334.98437499999989, 72.546875), (328.53906249999989, 719.2265625), (87.914062500000057, 373.328125), (554.12499999999989, 347.546875), (156.6640625, 373.328125), (206.078125, 341.1015625), (257.640625, 381.921875), (208.2265625, 386.21875), (395.14062499999989, 373.328125), (446.70312499999989, 336.8046875), (498.26562499999989, 362.5859375), (444.55468749999989, 377.625), (281.2734375, 525.8671875), (330.68749999999989, 497.9375), (373.65624999999989, 525.8671875), (236.15625, 586.0234375), (332.83593749999989, 594.6171875), (420.92187499999989, 588.171875), (330.68749999999989, 635.4375)]}, {'SCUT-FBP-8.jpg': [(317.79687499999989, 164.9296875), (302.75781249999989, 753.6015625), (100.8046875, 409.8515625), (528.34374999999989, 409.8515625), (160.9609375, 412.0), (208.2265625, 390.515625), (251.1953125, 433.484375), (203.9296875, 429.1875), (373.65624999999989, 431.3359375), (425.21874999999989, 390.515625), (466.03906249999989, 416.296875), (425.21874999999989, 431.3359375), (266.234375, 575.28125), (307.05468749999989, 545.203125), (341.42968749999989, 575.28125), (231.859375, 624.6953125), (309.20312499999989, 624.6953125), (392.99218749999989, 624.6953125), (307.05468749999989, 680.5546875)]}, {'SCUT-FBP-9.jpg': [(311.20833333333326, 115.22916666666674), (307.0, 733.85416666666674), (81.854166666666686, 374.04166666666674), (540.56249999999989, 371.9375), (161.8125, 376.14583333333337), (199.6875, 363.52083333333337), (248.08333333333326, 395.08333333333337), (203.89583333333337, 397.18750000000006), (370.12499999999989, 392.97916666666674), (420.62499999999989, 361.41666666666674), (471.12499999999989, 382.45833333333337), (420.62499999999989, 397.18750000000006), (262.8125, 527.64583333333337), (307.0, 506.60416666666669), (353.29166666666663, 529.75), (231.25, 603.39583333333337), (313.3125, 597.08333333333337), (389.06249999999989, 605.5), (309.10416666666663, 647.58333333333337)]}, {'SCUT-FBP-10.jpg': [(350.88802083333343, 157.10937500000011), (350.88802083333343, 813.81510416666674), (109.69791666666669, 441.28385416666674), (580.13802083333348, 436.50781250000011), (178.95052083333343, 446.05989583333337), (221.93489583333343, 424.56770833333337), (276.85937500000006, 460.38802083333337), (219.54687500000006, 460.38802083333337), (415.36458333333343, 458.00000000000011), (460.73697916666669, 417.40364583333337), (515.66145833333348, 438.89583333333337), (467.90104166666669, 455.61197916666674), (298.35156250000006, 608.4453125), (343.72395833333343, 575.01302083333337), (384.32031250000006, 610.83333333333337), (257.75520833333343, 658.59375), (346.11197916666669, 663.36979166666674), (434.46875000000006, 668.14583333333337), (350.88802083333343, 706.35416666666674)]}]"
   ]
  },
  {
   "cell_type": "code",
   "execution_count": 117,
   "metadata": {
    "collapsed": false
   },
   "outputs": [],
   "source": [
    "features = []\n",
    "for img_dict in labeled_face2:\n",
    "    for img_name in img_dict:\n",
    "        features.append(compute_ratios(img_dict[img_name]))\n",
    "features = np.array(features)"
   ]
  },
  {
   "cell_type": "code",
   "execution_count": 118,
   "metadata": {
    "collapsed": false
   },
   "outputs": [
    {
     "data": {
      "text/plain": [
       "10"
      ]
     },
     "execution_count": 118,
     "metadata": {},
     "output_type": "execute_result"
    }
   ],
   "source": [
    "len(features)"
   ]
  },
  {
   "cell_type": "code",
   "execution_count": 119,
   "metadata": {
    "collapsed": false
   },
   "outputs": [],
   "source": [
    "labels = np.array(average_ratings[0:10])\n",
    "predictions = leave_one_out(features, labels)"
   ]
  },
  {
   "cell_type": "code",
   "execution_count": 120,
   "metadata": {
    "collapsed": false
   },
   "outputs": [
    {
     "data": {
      "text/plain": [
       "array([3, 2, 2, 3, 2, 2, 2, 2, 2, 2])"
      ]
     },
     "execution_count": 120,
     "metadata": {},
     "output_type": "execute_result"
    }
   ],
   "source": [
    "predictions"
   ]
  },
  {
   "cell_type": "code",
   "execution_count": 121,
   "metadata": {
    "collapsed": false
   },
   "outputs": [
    {
     "data": {
      "text/plain": [
       "array([2, 3, 2, 2, 2, 2, 2, 2, 2, 3])"
      ]
     },
     "execution_count": 121,
     "metadata": {},
     "output_type": "execute_result"
    }
   ],
   "source": [
    "labels"
   ]
  },
  {
   "cell_type": "code",
   "execution_count": 122,
   "metadata": {
    "collapsed": false
   },
   "outputs": [
    {
     "data": {
      "text/plain": [
       "array([ 1, -1,  0,  1,  0,  0,  0,  0,  0, -1])"
      ]
     },
     "execution_count": 122,
     "metadata": {},
     "output_type": "execute_result"
    }
   ],
   "source": [
    "predictions - labels"
   ]
  },
  {
   "cell_type": "code",
   "execution_count": null,
   "metadata": {
    "collapsed": true
   },
   "outputs": [],
   "source": []
  }
 ],
 "metadata": {
  "kernelspec": {
   "display_name": "Python 2",
   "language": "python",
   "name": "python2"
  },
  "language_info": {
   "codemirror_mode": {
    "name": "ipython",
    "version": 2
   },
   "file_extension": ".py",
   "mimetype": "text/x-python",
   "name": "python",
   "nbconvert_exporter": "python",
   "pygments_lexer": "ipython2",
   "version": "2.7.10"
  }
 },
 "nbformat": 4,
 "nbformat_minor": 0
}
